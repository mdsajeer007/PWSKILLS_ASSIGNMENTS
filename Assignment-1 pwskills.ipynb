{
 "cells": [
  {
   "cell_type": "code",
   "execution_count": 1,
   "id": "739407da",
   "metadata": {},
   "outputs": [],
   "source": [
    "#Q1 CREATE VARIABLE USING THE FOLLOWING DATATYPE\n",
    "a=\"pwskills\"\n",
    "b=[1,2,3,4]\n",
    "c=0.08\n",
    "d=(1,3,4,5)"
   ]
  },
  {
   "cell_type": "code",
   "execution_count": 2,
   "id": "81e08030",
   "metadata": {},
   "outputs": [
    {
     "name": "stdout",
     "output_type": "stream",
     "text": [
      "<class 'str'>\n",
      "<class 'str'>\n",
      "<class 'list'>\n",
      "<class 'int'>\n"
     ]
    }
   ],
   "source": [
    "var1 = ''\n",
    "var2 = '[ DS , ML , Python]'\n",
    "var3 = [ 'DS' , 'ML' , 'Python' ]\n",
    "var4 = 1\n",
    "\n",
    "print(type(var1))\n",
    "print(type(var2))\n",
    "print(type(var3))\n",
    "print(type(var4))\n",
    "\n",
    "#String\n",
    "#String\n",
    "#list\n",
    "#int"
   ]
  },
  {
   "cell_type": "code",
   "execution_count": 3,
   "id": "8e3b42d3",
   "metadata": {},
   "outputs": [
    {
     "name": "stdout",
     "output_type": "stream",
     "text": [
      "0.5\n",
      "0\n",
      "3\n",
      "4\n"
     ]
    }
   ],
   "source": [
    "#  '/' used to divide an number\n",
    "print(5/10)\n",
    "\n",
    "# '%' used to find the remainder, when one number is divided with another\n",
    "print(10%5)\n",
    "\n",
    "# '//' used to perform floor division i.e rounding the decimal to the nearest value\n",
    "print(10//3)\n",
    "\n",
    "# '**' used to find the power of two or more mumbers\n",
    "print(2**2)"
   ]
  },
  {
   "cell_type": "code",
   "execution_count": 4,
   "id": "fcb80408",
   "metadata": {
    "scrolled": true
   },
   "outputs": [
    {
     "name": "stdout",
     "output_type": "stream",
     "text": [
      "1 <class 'int'>\n",
      "a <class 'str'>\n",
      "Power <class 'str'>\n",
      "0.9 <class 'float'>\n",
      "(1, 2) <class 'tuple'>\n",
      "den <class 'str'>\n",
      "4 <class 'int'>\n",
      "5 <class 'int'>\n",
      "6 <class 'int'>\n",
      "90 <class 'int'>\n"
     ]
    }
   ],
   "source": [
    "#Create a list of length 10 of your choice containing multiple types of data. Using for loop print the element and its data type.\n",
    "elements=0\n",
    "list10 = [1,'a',\"Power\", 0.90, (1,2) ,\"den\", 4,5,6,90]\n",
    "for elements in list10:\n",
    "    print(elements,type(elements))"
   ]
  },
  {
   "cell_type": "code",
   "execution_count": 5,
   "id": "8622759d",
   "metadata": {},
   "outputs": [
    {
     "name": "stdout",
     "output_type": "stream",
     "text": [
      "It is divisible by 5.0  times\n"
     ]
    }
   ],
   "source": [
    "#Using a while loop, verify if the number A is purely divisible by number B and if so then how many times it can be divisible.\n",
    "A=10\n",
    "B=2\n",
    "i=0\n",
    "while(A%B==0):\n",
    "    print(\"It is divisible by\",A/B,\" times\")\n",
    "    break"
   ]
  },
  {
   "cell_type": "code",
   "execution_count": 6,
   "id": "750e393c",
   "metadata": {},
   "outputs": [
    {
     "name": "stdout",
     "output_type": "stream",
     "text": [
      "1 not divisible by 3\n",
      "2 not divisible by 3\n",
      "3 divisible by 3\n",
      "4 not divisible by 3\n",
      "5 not divisible by 3\n",
      "6 divisible by 3\n",
      "7 not divisible by 3\n",
      "8 not divisible by 3\n",
      "9 divisible by 3\n",
      "10 not divisible by 3\n",
      "11 not divisible by 3\n",
      "12 divisible by 3\n",
      "13 not divisible by 3\n",
      "14 not divisible by 3\n",
      "15 divisible by 3\n",
      "16 not divisible by 3\n",
      "17 not divisible by 3\n",
      "18 divisible by 3\n",
      "19 not divisible by 3\n",
      "20 not divisible by 3\n",
      "21 divisible by 3\n",
      "22 not divisible by 3\n",
      "23 not divisible by 3\n",
      "24 divisible by 3\n",
      "25 not divisible by 3\n"
     ]
    }
   ],
   "source": [
    "#Create a list containing 25 int type data. Using for loop and if-else condition print if the element is divisible by 3 or not.\n",
    "\n",
    "list1=[1,2,3,4,5,6,7,8,9,10,11,12,13,14,15,16,17,18,19,20,21,22,23,24,25]\n",
    "\n",
    "for num in list1:\n",
    "    if(num%3==0):\n",
    "        print(num,\"divisible by 3\")\n",
    "    else:\n",
    "        print(num,\"not divisible by 3\")"
   ]
  },
  {
   "cell_type": "code",
   "execution_count": 7,
   "id": "dc8261bd",
   "metadata": {},
   "outputs": [
    {
     "name": "stdout",
     "output_type": "stream",
     "text": [
      "[1, 2, 9, 4, 5, 6]\n"
     ]
    },
    {
     "ename": "TypeError",
     "evalue": "'str' object does not support item assignment",
     "output_type": "error",
     "traceback": [
      "\u001b[1;31m---------------------------------------------------------------------------\u001b[0m",
      "\u001b[1;31mTypeError\u001b[0m                                 Traceback (most recent call last)",
      "\u001b[1;32m~\\AppData\\Local\\Temp/ipykernel_11064/680398766.py\u001b[0m in \u001b[0;36m<module>\u001b[1;34m\u001b[0m\n\u001b[0;32m     12\u001b[0m \u001b[1;31m#when we try to change an immutable object it throws an error\u001b[0m\u001b[1;33m\u001b[0m\u001b[1;33m\u001b[0m\u001b[0m\n\u001b[0;32m     13\u001b[0m \u001b[0ma\u001b[0m\u001b[1;33m=\u001b[0m\u001b[1;34m\"Hello World\"\u001b[0m\u001b[1;33m\u001b[0m\u001b[1;33m\u001b[0m\u001b[0m\n\u001b[1;32m---> 14\u001b[1;33m \u001b[0ma\u001b[0m\u001b[1;33m[\u001b[0m\u001b[1;36m1\u001b[0m\u001b[1;33m]\u001b[0m \u001b[1;33m=\u001b[0m \u001b[1;34m\"p\"\u001b[0m\u001b[1;33m\u001b[0m\u001b[1;33m\u001b[0m\u001b[0m\n\u001b[0m\u001b[0;32m     15\u001b[0m \u001b[1;33m\u001b[0m\u001b[0m\n\u001b[0;32m     16\u001b[0m \u001b[1;31m#what we can do is\u001b[0m\u001b[1;33m\u001b[0m\u001b[1;33m\u001b[0m\u001b[0m\n",
      "\u001b[1;31mTypeError\u001b[0m: 'str' object does not support item assignment"
     ]
    }
   ],
   "source": [
    "#mutable\n",
    "#in mutable datatype we can be modified or changed after they are created\n",
    "\n",
    "listtt = [1,2,3,4,5,6]\n",
    "listtt[2]=9\n",
    "print(listtt)\n",
    "\n",
    "#in the above example the list is an mutable datatype we can change or modify after it is created\n",
    "\n",
    "#immutable\n",
    "#in immutable datatype we cannot modify or change the datatype. Only we have the option of reassigning\n",
    "#when we try to change an immutable object it throws an error\n",
    "a=\"Hello World\"\n",
    "a[1] = \"p\"\n",
    "\n",
    "#what we can do is\n",
    "a=\"Hpllo World\"\n",
    "\n",
    "\n",
    "\n",
    "\n"
   ]
  }
 ],
 "metadata": {
  "kernelspec": {
   "display_name": "Python 3 (ipykernel)",
   "language": "python",
   "name": "python3"
  },
  "language_info": {
   "codemirror_mode": {
    "name": "ipython",
    "version": 3
   },
   "file_extension": ".py",
   "mimetype": "text/x-python",
   "name": "python",
   "nbconvert_exporter": "python",
   "pygments_lexer": "ipython3",
   "version": "3.9.7"
  }
 },
 "nbformat": 4,
 "nbformat_minor": 5
}
